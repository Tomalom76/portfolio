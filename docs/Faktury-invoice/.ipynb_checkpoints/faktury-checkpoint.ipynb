{
 "cells": [
  {
   "cell_type": "code",
   "execution_count": null,
   "metadata": {},
   "outputs": [],
   "source": [
    "# RESTARTUJ KERNEL PO URUCHOMIENIU\n",
    "!pip install --quiet instructor pydantic openai"
   ]
  },
  {
   "cell_type": "code",
   "execution_count": null,
   "metadata": {},
   "outputs": [],
   "source": [
    "from pathlib import Path\n",
    "import pandas as pd\n",
    "import sqlite3\n",
    "import base64\n",
    "import json\n",
    "from IPython.display import Image\n",
    "from getpass import getpass\n",
    "from datetime import date\n",
    "import instructor\n",
    "from pydantic import BaseModel\n",
    "from openai import OpenAI"
   ]
  },
  {
   "cell_type": "code",
   "execution_count": null,
   "metadata": {},
   "outputs": [],
   "source": [
    "# będziemy potrzebować klucza API do OpenAI żeby odczytać dane z faktur\n",
    "openai_key = getpass(\"OpenAI key: \")"
   ]
  },
  {
   "cell_type": "code",
   "execution_count": null,
   "metadata": {},
   "outputs": [],
   "source": [
    "openai_client = OpenAI(api_key=openai_key)"
   ]
  },
  {
   "cell_type": "markdown",
   "metadata": {},
   "source": [
    "## Czytamy dane klientów"
   ]
  },
  {
   "cell_type": "code",
   "execution_count": null,
   "metadata": {},
   "outputs": [],
   "source": [
    "# Czytamy plik sql\n",
    "clients_df = pd.DataFrame()\n",
    "with sqlite3.connect('clients.db') as conn:\n",
    "     clients_df = pd.read_sql('SELECT * FROM clients', conn)\n",
    "\n",
    "clients_df"
   ]
  },
  {
   "cell_type": "markdown",
   "metadata": {},
   "source": [
    "## Czytamy dane produktów"
   ]
  },
  {
   "cell_type": "code",
   "execution_count": null,
   "metadata": {},
   "outputs": [],
   "source": [
    "# Czytamy plik .csv\n",
    "products_df = pd.DataFrame()\n",
    "products_df = pd.read_csv('products.csv', sep=';')\n",
    "products_df"
   ]
  },
  {
   "cell_type": "code",
   "execution_count": null,
   "metadata": {},
   "outputs": [],
   "source": [
    "products2_df = products_df.drop(columns=['id'])\n",
    "products2_df = products2_df.rename(columns={'name': 'product'})\n",
    "products2_df['price'] = products2_df['price'].astype(float)"
   ]
  },
  {
   "cell_type": "code",
   "execution_count": null,
   "metadata": {},
   "outputs": [],
   "source": [
    "products2_df"
   ]
  },
  {
   "cell_type": "markdown",
   "metadata": {},
   "source": [
    "## Czytamy dane faktur"
   ]
  },
  {
   "cell_type": "code",
   "execution_count": null,
   "metadata": {},
   "outputs": [],
   "source": [
    "DATA_PATH = Path('.')\n",
    "PROCESSED_DATA_PATH = Path(\"Faktury\") / \"processed\""
   ]
  },
  {
   "cell_type": "code",
   "execution_count": null,
   "metadata": {},
   "outputs": [],
   "source": [
    "#Sprawdzenie czy pliki .png z fakturami znajdują się w odpowiedniej ścieżce\n",
    "for image_path in DATA_PATH.glob(\"*.png\"):\n",
    "    print(image_path)"
   ]
  },
  {
   "cell_type": "code",
   "execution_count": null,
   "metadata": {},
   "outputs": [],
   "source": [
    "#Wyświetlenie jak wygląda przykładowa faktura\n",
    "Image(DATA_PATH / \"zad_domowe__invoice_1.png\")"
   ]
  },
  {
   "cell_type": "code",
   "execution_count": null,
   "metadata": {},
   "outputs": [],
   "source": [
    "\n",
    "class InvoiceInfoItem(BaseModel):\n",
    "    description: str\n",
    "    product_id: int\n",
    "    quantity: int\n",
    "    price: float\n",
    "\n",
    "\n",
    "class InvoiceInfo(BaseModel):\n",
    "    company_name: str\n",
    "    customer_id: int\n",
    "    customer_name: str\n",
    "    invoice_number: int\n",
    "    date: date\n",
    "    # mamy tutaj do czynienia z listą elementów, więc danymi zagnieżdżonymi!\n",
    "    items: list[InvoiceInfoItem]\n",
    "\n",
    "\n",
    "instructor_openai_client = instructor.from_openai(OpenAI(api_key=openai_key))\n",
    "orders = []\n",
    "for image_path in sorted(DATA_PATH.glob(\"zad_domowe__invoice_*.png\")):\n",
    "    print(f\"Processing {image_path}\")\n",
    "    with open(image_path, \"rb\") as f:\n",
    "        image_data = base64.b64encode(f.read()).decode('utf-8')\n",
    "\n",
    "    \n",
    "    invoice_info =  instructor_openai_client.chat.completions.create(\n",
    "        model=\"gpt-4o-mini\",\n",
    "        #model=\"gpt-4o\",\n",
    "        response_model=InvoiceInfo,\n",
    "        messages=[\n",
    "            {\n",
    "                \"role\": \"user\",\n",
    "                \"content\": [\n",
    "                    {\n",
    "                        \"type\": \"text\",\n",
    "                        \"text\": \"Pobierz szczegóły o zakupionym produkcie, ilości, kliencie, cenie jednostkowej\",\n",
    "                    },\n",
    "                    {\n",
    "                        \"type\": \"image_url\",\n",
    "                        \"image_url\": {\n",
    "                            \"url\": f\"data:image/png;base64,{image_data}\",\n",
    "                            \"detail\": \"high\"\n",
    "                        },\n",
    "                    },\n",
    "                ],\n",
    "            },\n",
    "        ],\n",
    "    )\n",
    "    \n",
    "    invoice_data = invoice_info.model_dump()\n",
    "    for item in invoice_data[\"items\"]:\n",
    "        order = {\n",
    "            \"company_name\": invoice_data[\"company_name\"],\n",
    "            \"customer_id\": invoice_data[\"customer_id\"],\n",
    "            \"customer_name\": invoice_data[\"customer_name\"],\n",
    "            \"invoice_number\": invoice_data[\"invoice_number\"],\n",
    "            \"date\": invoice_data[\"date\"],\n",
    "            \"description\": item[\"description\"],\n",
    "            \"product_id\": item[\"product_id\"],\n",
    "            \"quantity\": item[\"quantity\"],\n",
    "            \"price\": item[\"price\"],\n",
    "        }\n",
    "        orders.append(order)\n",
    "\n",
    "orders_df = pd.DataFrame(orders)"
   ]
  },
  {
   "cell_type": "code",
   "execution_count": null,
   "metadata": {},
   "outputs": [],
   "source": [
    "orders_df"
   ]
  },
  {
   "cell_type": "code",
   "execution_count": null,
   "metadata": {},
   "outputs": [],
   "source": [
    "orders_df_2= orders_df\n",
    "orders_df_2 = orders_df_2.drop(columns=[\n",
    " 'company_name',\n",
    " 'customer_id',\n",
    " 'invoice_number',\n",
    " 'date',\n",
    " 'product_id'])"
   ]
  },
  {
   "cell_type": "code",
   "execution_count": null,
   "metadata": {},
   "outputs": [],
   "source": [
    "orders_df_2"
   ]
  },
  {
   "cell_type": "code",
   "execution_count": null,
   "metadata": {},
   "outputs": [],
   "source": [
    "orders_df_2['description'].value_counts()"
   ]
  },
  {
   "cell_type": "code",
   "execution_count": null,
   "metadata": {},
   "outputs": [],
   "source": [
    "orders_df_2.info()"
   ]
  },
  {
   "cell_type": "markdown",
   "metadata": {},
   "source": [
    "## Łączenie danych"
   ]
  },
  {
   "cell_type": "code",
   "execution_count": null,
   "metadata": {},
   "outputs": [],
   "source": [
    "orders_df_2['description'] = orders_df_2['description'].map({\n",
    "    'router (id produktu 7)': 'router',\n",
    "    'słuchawki (id produktu 5)': 'słuchawki',\n",
    "    'ochraniacze (id produktu 16)': 'ochraniacze',\n",
    "    'narty (id produktu 17)': 'narty',\n",
    "    'rolki (id produktu 14)': 'rolki',\n",
    "    'pendrive (id produktu 10)': 'pendrive',\n",
    "    'laptop (id produktu 2)': 'laptop',\n",
    "    'telewizor (id produktu 1)': 'telewizor',\n",
    "    'klawiatura (id produktu 9)': 'klawiatura',\n",
    "    'spodnie (id produktu 20)': 'spodnie',\n",
    "    'spodnie': 'spodnie',\n",
    "    'laptop': 'laptop',\n",
    "    'klawiatura': 'klawiatura'\n",
    "})\n",
    "orders_df_2['description'].value_counts()"
   ]
  },
  {
   "cell_type": "code",
   "execution_count": null,
   "metadata": {},
   "outputs": [],
   "source": [
    "orders_df_2 = orders_df_2.rename(columns={'customer_name': 'name','description': 'product'})\n",
    "orders_df_2"
   ]
  },
  {
   "cell_type": "code",
   "execution_count": null,
   "metadata": {},
   "outputs": [],
   "source": [
    "orders_products_df= pd.merge(orders_df_2, products2_df, on='product', how='outer')\n",
    "orders_products_df"
   ]
  },
  {
   "cell_type": "code",
   "execution_count": null,
   "metadata": {},
   "outputs": [],
   "source": [
    "orders_products_df = orders_products_df.drop(columns=['price_x'])"
   ]
  },
  {
   "cell_type": "code",
   "execution_count": null,
   "metadata": {},
   "outputs": [],
   "source": [
    "orders_products_df = orders_products_df.rename(columns={'price_y': 'price'})"
   ]
  },
  {
   "cell_type": "code",
   "execution_count": null,
   "metadata": {},
   "outputs": [],
   "source": [
    "orders_products_df"
   ]
  },
  {
   "cell_type": "code",
   "execution_count": null,
   "metadata": {},
   "outputs": [],
   "source": [
    "orders_products_df = orders_products_df.dropna(subset = 'name')"
   ]
  },
  {
   "cell_type": "code",
   "execution_count": null,
   "metadata": {},
   "outputs": [],
   "source": [
    "orders_products_df"
   ]
  },
  {
   "cell_type": "code",
   "execution_count": null,
   "metadata": {},
   "outputs": [],
   "source": [
    "company_df = pd.DataFrame()\n",
    "company_df = pd.merge(orders_df_2, clients_df, on='name', how='outer')"
   ]
  },
  {
   "cell_type": "code",
   "execution_count": null,
   "metadata": {},
   "outputs": [],
   "source": [
    "company_df"
   ]
  },
  {
   "cell_type": "code",
   "execution_count": null,
   "metadata": {},
   "outputs": [],
   "source": [
    "company_df = company_df.dropna(subset = 'product')\n",
    "company_df"
   ]
  },
  {
   "cell_type": "code",
   "execution_count": null,
   "metadata": {},
   "outputs": [],
   "source": [
    "company_df = company_df [['name', 'product', 'quantity', 'price']]\n",
    "company_df"
   ]
  },
  {
   "cell_type": "code",
   "execution_count": null,
   "metadata": {},
   "outputs": [],
   "source": [
    "company_df.to_csv('company.csv', index=False)"
   ]
  }
 ],
 "metadata": {
  "kernelspec": {
   "display_name": "Python 3 (ipykernel)",
   "language": "python",
   "name": "python3"
  },
  "language_info": {
   "codemirror_mode": {
    "name": "ipython",
    "version": 3
   },
   "file_extension": ".py",
   "mimetype": "text/x-python",
   "name": "python",
   "nbconvert_exporter": "python",
   "pygments_lexer": "ipython3",
   "version": "3.11.11"
  }
 },
 "nbformat": 4,
 "nbformat_minor": 4
}
